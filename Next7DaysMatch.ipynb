{
 "cells": [
  {
   "cell_type": "code",
   "execution_count": null,
   "id": "2ff38d11",
   "metadata": {},
   "outputs": [],
   "source": [
    "import pandas as pd\n",
    "import datetime\n",
    "import requests\n",
    "import json\n",
    "import io\n",
    "from email.mime.text import MIMEText\n",
    "from email.utils import formatdate\n",
    "from email.mime.multipart import MIMEMultipart\n",
    "from email.mime.application import MIMEApplication\n",
    "from email.mime.text import MIMEText\n",
    "import smtplib"
   ]
  },
  {
   "cell_type": "code",
   "execution_count": null,
   "id": "3e4c3ae2",
   "metadata": {},
   "outputs": [],
   "source": [
    "def send_mail(message, subject=None, receiver=None, attachment=None):\n",
    "    \"\"\"\n",
    "    Function to send out status mail to recipients\n",
    "    \"\"\"\n",
    "    emailAdds = ['ojofemijoseph@outlook.com']\n",
    "    names = ['joseph']\n",
    "\n",
    "    \n",
    "    fromaddress = 'ojofemijoseph@gmail.com'\n",
    "    pass_w = \"\"\n",
    "    \n",
    "    for item, name in zip(emailAdds, names):\n",
    "        fromaddr = fromaddress\n",
    "        toaddr = item\n",
    "        \n",
    "        msg = MIMEMultipart()\n",
    "        msg['From'] = \"Data\"\n",
    "        msg['To'] = toaddr\n",
    "        msg['Subject'] = f\"Match Fixture\"\n",
    "        body = message\n",
    "        \n",
    "        msg.attach(MIMEText(body, 'plain'))\n",
    "\n",
    "        if attachment:\n",
    "            filename = f\"Match Fixture.csv\"\n",
    "            \n",
    "            attachment_ = MIMEApplication(output.getvalue()) #get the file from the io object\n",
    "            attachment_.add_header('Content-Disposition', 'attachment', filename=filename)\n",
    "            attachment_.add_header('Content-Type', 'application/vnd.ms-excel; charset=UTF-8')\n",
    "            msg.attach(attachment_)\n",
    "        server_ssl = smtplib.SMTP_SSL(\"smtp.gmail.com\", 465)\n",
    "        server = server_ssl \n",
    "        server.login(fromaddr, pass_w)\n",
    "        text = msg.as_string()\n",
    "        server.sendmail(fromaddress, toaddr, text)\n",
    "        server.quit()\n",
    "        print(\"Email sent to\" + \" \" + name + \" \" + item)\n",
    "\n"
   ]
  },
  {
   "cell_type": "code",
   "execution_count": null,
   "id": "1d96b6b4",
   "metadata": {},
   "outputs": [],
   "source": [
    "api_key = \"\"\n",
    "\n",
    "df = pd.DataFrame(columns=['date', 'home_team', 'away_team'])\n",
    "\n",
    "\n",
    "current_date = datetime.date.today().isoformat()\n",
    "next_week_date = (datetime.date.today() + datetime.timedelta(days=7)).isoformat()\n",
    "\n",
    "uri = f'https://api.football-data.org/v4/matches/?dateFrom={current_date}&dateTo={next_week_date}'\n",
    "\n",
    "headers = { 'X-Auth-Token': api_key }\n",
    "\n",
    "response = requests.get(uri, headers=headers)\n",
    "\n",
    "for fixture in response.json()['matches']:\n",
    "    \n",
    "\n",
    "    if fixture['status'] == 'TIMED':\n",
    "        date = pd.to_datetime(fixture['utcDate']).date()\n",
    "        home_team = fixture['homeTeam']['name']\n",
    "        away_team = fixture['awayTeam']['name']\n",
    "        df = df.append({'date': date, 'home_team': home_team, 'away_team': away_team}, ignore_index=True)\n"
   ]
  },
  {
   "cell_type": "code",
   "execution_count": null,
   "id": "0b219a4a",
   "metadata": {},
   "outputs": [],
   "source": [
    "output = io.BytesIO()"
   ]
  },
  {
   "cell_type": "code",
   "execution_count": null,
   "id": "71246d8d",
   "metadata": {},
   "outputs": [],
   "source": [
    "df.to_csv(output,index=False)"
   ]
  },
  {
   "cell_type": "code",
   "execution_count": null,
   "id": "3c233311",
   "metadata": {},
   "outputs": [],
   "source": [
    "message = \"Next Week Match Fixture\""
   ]
  },
  {
   "cell_type": "code",
   "execution_count": null,
   "id": "9bd24082",
   "metadata": {},
   "outputs": [],
   "source": [
    "send_mail(message,attachment=True)"
   ]
  },
  {
   "cell_type": "code",
   "execution_count": null,
   "id": "3b205b67",
   "metadata": {},
   "outputs": [],
   "source": []
  }
 ],
 "metadata": {
  "kernelspec": {
   "display_name": "Python 3 (ipykernel)",
   "language": "python",
   "name": "python3"
  },
  "language_info": {
   "codemirror_mode": {
    "name": "ipython",
    "version": 3
   },
   "file_extension": ".py",
   "mimetype": "text/x-python",
   "name": "python",
   "nbconvert_exporter": "python",
   "pygments_lexer": "ipython3",
   "version": "3.8.10"
  }
 },
 "nbformat": 4,
 "nbformat_minor": 5
}
